{
 "cells": [
  {
   "cell_type": "code",
   "execution_count": 1,
   "metadata": {},
   "outputs": [
    {
     "name": "stdout",
     "output_type": "stream",
     "text": [
      "Hi Mom\n"
     ]
    }
   ],
   "source": [
    "print(\"Hi Mom\")"
   ]
  },
  {
   "attachments": {},
   "cell_type": "markdown",
   "metadata": {},
   "source": []
  },
  {
   "cell_type": "code",
   "execution_count": 3,
   "metadata": {},
   "outputs": [],
   "source": [
    "import requests\n",
    "import csv"
   ]
  },
  {
   "cell_type": "code",
   "execution_count": 9,
   "metadata": {},
   "outputs": [],
   "source": [
    "def post_data(url, data):\n",
    "  response = requests.post(url, data=data)\n",
    "  if response.status_code == 200:\n",
    "    print(\"Data posted successfully.\")\n",
    "  else:\n",
    "    print(f\"Failed to post data. Error: {response.text}\")\n",
    "\n",
    "def read_csv(file_path):\n",
    "  rows = []\n",
    "  with open(file_path, 'r') as file:\n",
    "    reader = csv.reader(file)\n",
    "    header=next(reader)\n",
    "    for row in reader:\n",
    "      rows.append(row)\n",
    "    return rows"
   ]
  },
  {
   "cell_type": "code",
   "execution_count": 11,
   "metadata": {},
   "outputs": [
    {
     "name": "stdout",
     "output_type": "stream",
     "text": [
      "var1:a, var2:b, var3:c\n",
      "var1:1, var2:2, var3:3\n",
      "var1:alpha, var2:beta, var3:gamma\n"
     ]
    }
   ],
   "source": [
    "# Replace 'http://example.com/endpoint' with your actual endpoint URL\n",
    "url = 'http://example.com/endpoint'\n",
    "\n",
    "# Replace 'data.txt' with the path to your input file\n",
    "file_path = 'everynet-ns-bulkin.csv'\n",
    "\n",
    "# Read the contents of the file\n",
    "rows = read_csv(file_path)\n",
    "\n",
    "# Post the data to the HTTP endpoint\n",
    "for row in rows:\n",
    "  var1, var2, var3 = row\n",
    "  print(f\"var1:{var1}, var2:{var2}, var3:{var3}\")\n",
    "  #post_data(url, {'var1': var1, 'var2': var2, 'var3': var3})\n"
   ]
  }
 ],
 "metadata": {
  "kernelspec": {
   "display_name": "Python 3",
   "language": "python",
   "name": "python3"
  },
  "language_info": {
   "codemirror_mode": {
    "name": "ipython",
    "version": 3
   },
   "file_extension": ".py",
   "mimetype": "text/x-python",
   "name": "python",
   "nbconvert_exporter": "python",
   "pygments_lexer": "ipython3",
   "version": "3.11.2"
  },
  "orig_nbformat": 4
 },
 "nbformat": 4,
 "nbformat_minor": 2
}
