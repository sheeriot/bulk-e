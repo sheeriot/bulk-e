{
 "cells": [
  {
   "attachments": {},
   "cell_type": "markdown",
   "metadata": {},
   "source": []
  },
  {
   "cell_type": "code",
   "execution_count": 4,
   "metadata": {},
   "outputs": [
    {
     "name": "stdout",
     "output_type": "stream",
     "text": [
      "            dev_eui           app_eui                           netskey   \n",
      "0  000DB531137B353A  0000000000010203  28aed22b7e1516a609cfabf715884f3c  \\\n",
      "1  000DB531137C356A  0000000000010203  28aed22b7e1516a609cfabf715884f3c   \n",
      "2  000DB53113633558  0000000000010203  28aed22b7e1516a609cfabf715884f3c   \n",
      "\n",
      "                            appskey           tags  \n",
      "0  1628ae2b7e15d2a6abf7cf4f3c158809  iotdash-gs100  \n",
      "1  1628ae2b7e15d2a6abf7cf4f3c158809  iotdash-gs100  \n",
      "2  1628ae2b7e15d2a6abf7cf4f3c158809  iotdash-gs100  \n"
     ]
    }
   ],
   "source": [
    "import pandas as pd\n",
    "import os\n",
    "import requests\n",
    "import json\n",
    "from dotenv import load_dotenv\n",
    "\n",
    "load_dotenv()\n",
    "NS_TOKEN = os.getenv('NS_TOKEN')\n",
    "\n",
    "devices_file = \"imports/importC-devices.csv\"\n",
    "commons_file = \"imports/importC-common.csv\"\n",
    "\n",
    "devices_df = pd.read_csv(devices_file, dtype=str)\n",
    "commons_df = pd.read_csv(commons_file, dtype=str)\n",
    "print(devices_df)"
   ]
  },
  {
   "cell_type": "code",
   "execution_count": null,
   "metadata": {},
   "outputs": [],
   "source": [
    "# Create the import file.\n",
    "deviceimport_df = devices_df\n",
    "# Only add columns not present in devices file\n",
    "\n",
    "if 'activation' not in devices_df.columns:\n",
    "  deviceimport_df = deviceimport_df.assign(activation = commons_df['activation'][0])\n",
    "if 'encryption' not in devices_df.columns:\n",
    "  deviceimport_df = deviceimport_df.assign(encryption = commons_df['encryption'][0])\n",
    "if 'dev_class' not in devices_df.columns:\n",
    "  deviceimport_df = deviceimport_df.assign(dev_class = commons_df['dev_class'][0])\n",
    "if 'counters_size' not in devices_df.columns:\n",
    "  deviceimport_df = deviceimport_df.assign(counters_size = commons_df['counters_size'][0])\n",
    "if 'adr' not in devices_df.columns:\n",
    "  deviceimport_df = deviceimport_df.assign(adr = commons_df['adr'][0])\n",
    "if 'tx_power' not in devices_df.columns:\n",
    "  deviceimport_df = deviceimport_df.assign(tx_power = commons_df['tx_power'][0])\n",
    "if 'datarate' not in devices_df.columns:\n",
    "  deviceimport_df = deviceimport_df.assign(datarate = commons_df['datarate'][0])\n",
    "if 'common_tags' not in devices_df.columns:\n",
    "  deviceimport_df = deviceimport_df.assign(common_tags = commons_df['common_tags'][0])\n",
    "if 'band' not in devices_df.columns:\n",
    "  deviceimport_df = deviceimport_df.assign(band = commons_df['band'][0])\n",
    "  \n",
    "print(deviceimport_df)\n"
   ]
  },
  {
   "cell_type": "code",
   "execution_count": null,
   "metadata": {},
   "outputs": [],
   "source": [
    "HTTP_SCHEMA = \"https://\"\n",
    "BASEURL = \"ns.us.everynet.io\"\n",
    "BASEPATH = \"/api/\"\n",
    "API_VERSION = \"v1.0\"\n",
    "REQ_URL = HTTP_SCHEMA + BASEURL + BASEPATH + API_VERSION\n",
    "\n",
    "HEADERS = {\"accept\": \"application/json\", \"Content-Type\": \"application/json\"}\n",
    "\n",
    "path = \"/devices\"\n",
    "url = REQ_URL + path\n",
    "\n"
   ]
  },
  {
   "cell_type": "code",
   "execution_count": null,
   "metadata": {},
   "outputs": [],
   "source": [
    "\n",
    "for i in range(0, len(deviceimport_df)):\n",
    "  row=deviceimport_df.iloc[i]\n",
    "  tags=row['tags'].split(',')\n",
    "  common_tags=row['common_tags'].split(',')\n",
    "\n",
    "  # print(f'tags\\n{tags}')\n",
    "  # print(tags)\n",
    "  data = {}\n",
    "\n",
    "  data['dev_eui'] = row['dev_eui']\n",
    "  data['app_eui'] = row['app_eui']\n",
    "  data['app_key'] = row['app_key']\n",
    "\n",
    "  data['activation'] = row['activation'].upper()\n",
    "  data['encryption'] = row['encryption'].upper()\n",
    "\n",
    "  data['dev_class'] = row['dev_class'].upper()\n",
    "  data['counters_size'] = int(row['counters_size'])\n",
    "\n",
    "  adr = {}\n",
    "  adr['mode'] = row['adr']\n",
    "  # adr['tx_power'] = row['tx_power']\n",
    "  # adr['datarate'] = row['datarate']\n",
    "  data['adr'] = adr\n",
    "\n",
    "  data['band'] = row['band']\n",
    "\n",
    "  data['tags'] = tags + common_tags\n",
    "\n",
    "  data_json = json.dumps(data)\n",
    "  # print(data_json)\n",
    "\n",
    "  response = requests.post(url, data_json, params={\"access_token\": NS_TOKEN}, headers=HEADERS)\n",
    "\n",
    "  print(F'Server Response: {response}, {response.text}')  \n",
    "\n",
    "  # print(response.request.url)\n",
    "  # print(response.request.headers)\n",
    "  print(F'Request body\\n{response.request.body}')\n",
    "\n",
    "\n",
    "\n"
   ]
  }
 ],
 "metadata": {
  "kernelspec": {
   "display_name": "Python 3",
   "language": "python",
   "name": "python3"
  },
  "language_info": {
   "codemirror_mode": {
    "name": "ipython",
    "version": 3
   },
   "file_extension": ".py",
   "mimetype": "text/x-python",
   "name": "python",
   "nbconvert_exporter": "python",
   "pygments_lexer": "ipython3",
   "version": "3.10.6"
  },
  "orig_nbformat": 4
 },
 "nbformat": 4,
 "nbformat_minor": 2
}
