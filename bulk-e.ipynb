{
 "cells": [
  {
   "cell_type": "code",
   "execution_count": 4,
   "metadata": {},
   "outputs": [],
   "source": [
    "import_name = 'importC'"
   ]
  },
  {
   "cell_type": "code",
   "execution_count": 9,
   "metadata": {},
   "outputs": [
    {
     "name": "stdout",
     "output_type": "stream",
     "text": [
      "Devices Filename: imports/importC-devices.csv\n",
      "Commons Filename: imports/importC-common.csv\n",
      "Logging Filename: imports/importC-logging.txt\n",
      "            dev_eui           app_eui  dev_addr              tags\n",
      "0  000DB531137B353A  0000000000010203  137B353A  LT1-353A C3F8+CW\n",
      "1  000DB531137C356A  0000000000010203  137C356A  LT1-356A C3F9+G5\n",
      "2  000DB53113633558  0000000000010203  13633558  LT1-3558 C3F9+96\n"
     ]
    }
   ],
   "source": [
    "import os, sys, logging\n",
    "from dotenv import load_dotenv\n",
    "import json\n",
    "import pandas as pd\n",
    "import requests\n",
    "\n",
    "HTTP_SCHEMA = \"https://\"\n",
    "BASEURL = \"ns.us.everynet.io\"\n",
    "BASEPATH = \"/api/\"\n",
    "API_VERSION = \"v1.0\"\n",
    "REQ_URL = HTTP_SCHEMA + BASEURL + BASEPATH + API_VERSION\n",
    "\n",
    "load_dotenv()\n",
    "NS_TOKEN = os.getenv('NS_TOKEN')\n",
    "\n",
    "HEADERS = {\"accept\": \"application/json\", \"Content-Type\": \"application/json\"}\n",
    "\n",
    "path = \"/devices\"\n",
    "url = REQ_URL + path\n",
    "\n",
    "# get the file name from the script argument\n",
    "files_base = \"imports/\" + import_name\n",
    "\n",
    "devices_file = files_base + \"-devices.csv\"\n",
    "commons_file = files_base + \"-common.csv\"\n",
    "logging_file = files_base + \"-logging.txt\" \n",
    "print(F'Devices Filename: {devices_file}')\n",
    "print(F'Commons Filename: {commons_file}')\n",
    "print(F'Logging Filename: {logging_file}')\n",
    "\n",
    "devices_df = pd.read_csv(devices_file, dtype=str)\n",
    "commons_df = pd.read_csv(commons_file, dtype=str)\n",
    "print(devices_df)"
   ]
  },
  {
   "cell_type": "code",
   "execution_count": 6,
   "metadata": {},
   "outputs": [
    {
     "name": "stdout",
     "output_type": "stream",
     "text": [
      "            dev_eui           app_eui  dev_addr              tags activation   \n",
      "0  000DB531137B353A  0000000000010203  137B353A  LT1-353A C3F8+CW        abp  \\\n",
      "1  000DB531137C356A  0000000000010203  137C356A  LT1-356A C3F9+G5        abp   \n",
      "2  000DB53113633558  0000000000010203  13633558  LT1-3558 C3F9+96        abp   \n",
      "\n",
      "                            appskey                           nwkskey   \n",
      "0  1628ae2b7e15d2a6abf7cf4f3c158809  28aed22b7e1516a609cfabf715884f3c  \\\n",
      "1  1628ae2b7e15d2a6abf7cf4f3c158809  28aed22b7e1516a609cfabf715884f3c   \n",
      "2  1628ae2b7e15d2a6abf7cf4f3c158809  28aed22b7e1516a609cfabf715884f3c   \n",
      "\n",
      "  encryption dev_class counters_size adr  tx_power  datarate       band   \n",
      "0         ns         a             4  on       NaN       NaN  us902-928  \\\n",
      "1         ns         a             4  on       NaN       NaN  us902-928   \n",
      "2         ns         a             4  on       NaN       NaN  us902-928   \n",
      "\n",
      "           common_tags  \n",
      "0  kris bulk-e importC  \n",
      "1  kris bulk-e importC  \n",
      "2  kris bulk-e importC  \n"
     ]
    }
   ],
   "source": [
    "# Create the full import data frame\n",
    "deviceimport_df = devices_df\n",
    "\n",
    "# Add \"commons\" columns if not present in devices file\n",
    "if 'app_eui' not in devices_df.columns:\n",
    "  deviceimport_df = deviceimport_df.assign(app_eui = str(commons_df['app_eui'][0]))\n",
    "if 'activation' not in devices_df.columns:\n",
    "  deviceimport_df = deviceimport_df.assign(activation = commons_df['activation'][0])\n",
    "if 'appskey' not in devices_df.columns:\n",
    "  deviceimport_df = deviceimport_df.assign(appskey = str(commons_df['appskey'][0]))\n",
    "if 'nwkskey' not in devices_df.columns:\n",
    "  deviceimport_df = deviceimport_df.assign(nwkskey = str(commons_df['nwkskey'][0]))\n",
    "if 'encryption' not in devices_df.columns:\n",
    "  deviceimport_df = deviceimport_df.assign(encryption = commons_df['encryption'][0])\n",
    "if 'dev_class' not in devices_df.columns:\n",
    "  deviceimport_df = deviceimport_df.assign(dev_class = commons_df['dev_class'][0])\n",
    "if 'counters_size' not in devices_df.columns:\n",
    "  deviceimport_df = deviceimport_df.assign(counters_size = commons_df['counters_size'][0])\n",
    "if 'adr' not in devices_df.columns:\n",
    "  deviceimport_df = deviceimport_df.assign(adr = commons_df['adr'][0])\n",
    "if 'tx_power' not in devices_df.columns:\n",
    "  deviceimport_df = deviceimport_df.assign(tx_power = commons_df['tx_power'][0])\n",
    "if 'datarate' not in devices_df.columns:\n",
    "  deviceimport_df = deviceimport_df.assign(datarate = commons_df['datarate'][0])\n",
    "if 'band' not in devices_df.columns:\n",
    "  deviceimport_df = deviceimport_df.assign(band = commons_df['band'][0])\n",
    "if 'common_tags' not in devices_df.columns:\n",
    "  deviceimport_df = deviceimport_df.assign(common_tags = commons_df['common_tags'][0])\n",
    "  \n",
    "print(deviceimport_df)\n"
   ]
  },
  {
   "cell_type": "code",
   "execution_count": 10,
   "metadata": {},
   "outputs": [
    {
     "name": "stdout",
     "output_type": "stream",
     "text": [
      "0000000000010203\n",
      "{\"dev_eui\": \"000db531137b353a\", \"app_eui\": \"0000000000010203\", \"activation\": \"ABP\", \"dev_addr\": \"137B353A\", \"appskey\": \"1628ae2b7e15d2a6abf7cf4f3c158809\", \"nwkskey\": \"28aed22b7e1516a609cfabf715884f3c\", \"encryption\": \"NS\", \"dev_class\": \"A\", \"counters_size\": 4, \"band\": \"US902-928\", \"adr\": {\"mode\": \"on\"}, \"tags\": [\"LT1-353A\", \"C3F8+CW\", \"kris\", \"bulk-e\", \"importC\"]}\n",
      "0000000000010203\n",
      "{\"dev_eui\": \"000db531137c356a\", \"app_eui\": \"0000000000010203\", \"activation\": \"ABP\", \"dev_addr\": \"137C356A\", \"appskey\": \"1628ae2b7e15d2a6abf7cf4f3c158809\", \"nwkskey\": \"28aed22b7e1516a609cfabf715884f3c\", \"encryption\": \"NS\", \"dev_class\": \"A\", \"counters_size\": 4, \"band\": \"US902-928\", \"adr\": {\"mode\": \"on\"}, \"tags\": [\"LT1-356A\", \"C3F9+G5\", \"kris\", \"bulk-e\", \"importC\"]}\n",
      "0000000000010203\n",
      "{\"dev_eui\": \"000db53113633558\", \"app_eui\": \"0000000000010203\", \"activation\": \"ABP\", \"dev_addr\": \"13633558\", \"appskey\": \"1628ae2b7e15d2a6abf7cf4f3c158809\", \"nwkskey\": \"28aed22b7e1516a609cfabf715884f3c\", \"encryption\": \"NS\", \"dev_class\": \"A\", \"counters_size\": 4, \"band\": \"US902-928\", \"adr\": {\"mode\": \"on\"}, \"tags\": [\"LT1-3558\", \"C3F9+96\", \"kris\", \"bulk-e\", \"importC\"]}\n"
     ]
    }
   ],
   "source": [
    "# Process the import dataframe, create device (post) at NS\n",
    "for i in range(0, len(deviceimport_df)):\n",
    "  # get the row\n",
    "  row=deviceimport_df.iloc[i]\n",
    "  data = {}\n",
    "\n",
    "  # prep the tags\n",
    "  tags=row['tags'].split(' ')\n",
    "  common_tags=row['common_tags'].split(' ')\n",
    "\n",
    "  data['dev_eui'] = row['dev_eui'].lower()\n",
    "  data['app_eui'] = row['app_eui']\n",
    "  print(data['app_eui'])\n",
    "  data['activation'] = row['activation'].upper()\n",
    "  if data['activation'] == 'OTAA':\n",
    "    data['app_key'] = row['app_key']\n",
    "  elif data['activation'] == 'ABP':\n",
    "    data['dev_addr'] = row['dev_addr']\n",
    "    data['appskey'] = row['appskey']\n",
    "    data['nwkskey'] = row['nwkskey']\n",
    "  data['encryption'] = row['encryption'].upper()\n",
    "  data['dev_class'] = row['dev_class'].upper()\n",
    "  data['counters_size'] = int(row['counters_size'])\n",
    "  data['band'] = row['band'].upper()\n",
    "\n",
    "  adr = {}\n",
    "  adr['mode'] = row['adr']\n",
    "  # adr['tx_power'] = row['tx_power']\n",
    "  # adr['datarate'] = row['datarate']\n",
    "  data['adr'] = adr\n",
    "\n",
    "  data['tags'] = tags + common_tags\n",
    "\n",
    "  data_json = json.dumps(data)\n",
    "  print(data_json)\n",
    "\n",
    "  # response = requests.post(url, data_json, params={\"access_token\": NS_TOKEN}, headers=HEADERS)\n",
    "  # if response.status_code == 201:\n",
    "  #   # print(response.request.url)\n",
    "  #   # print(response.request.headers)\n",
    "  #   # print(response.request.body)\n",
    "  #   message = F\"Success: Device Added {data['dev_eui']}, Status Code: {response.status_code}, reason:{response.reason}\"\n",
    "  #   logger.info(message)\n",
    "  #   print(message)\n",
    "\n",
    "  # else:\n",
    "  #   # print(\"--------------------\\nRequest Details:\")\n",
    "  #   # print(response.request.url)\n",
    "  #   # print(response.request.headers)\n",
    "  #   # print(response.request.body)\n",
    "  #   message = F\"Failed: Device NOT ADDED: {data['dev_eui']}, Status Code: {response.status_code}, reason:{response.reason}, text:{response.text}\"\n",
    "  #   logger.info(message)  \n",
    "  #   print(message)"
   ]
  }
 ],
 "metadata": {
  "kernelspec": {
   "display_name": "Python 3",
   "language": "python",
   "name": "python3"
  },
  "language_info": {
   "codemirror_mode": {
    "name": "ipython",
    "version": 3
   },
   "file_extension": ".py",
   "mimetype": "text/x-python",
   "name": "python",
   "nbconvert_exporter": "python",
   "pygments_lexer": "ipython3",
   "version": "3.10.6"
  },
  "orig_nbformat": 4
 },
 "nbformat": 4,
 "nbformat_minor": 2
}
